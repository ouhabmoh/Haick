{
 "cells": [
  {
   "cell_type": "markdown",
   "metadata": {},
   "source": [
    "## Installing dependencies"
   ]
  },
  {
   "cell_type": "markdown",
   "metadata": {},
   "source": [
    "## Preprocessing"
   ]
  },
  {
   "cell_type": "markdown",
   "metadata": {},
   "source": [
    "## Data Mining"
   ]
  },
  {
   "cell_type": "code",
   "execution_count": null,
   "metadata": {},
   "outputs": [],
   "source": [
    "import numpy as np\n",
    "import pandas as pd\n",
    "from sklearn.model_selection import train_test_split, GridSearchCV\n",
    "from sklearn.preprocessing import StandardScaler\n",
    "from sklearn.pipeline import Pipeline\n",
    "from sklearn.linear_model import LogisticRegression\n",
    "from sklearn.ensemble import RandomForestClassifier, AdaBoostClassifier\n",
    "from xgboost import XGBClassifier\n",
    "from sklearn.svm import SVC\n",
    "from sklearn.neighbors import KNeighborsClassifier\n",
    "from sklearn.naive_bayes import GaussianNB\n",
    "from sklearn.metrics import accuracy_score\n",
    "import os\n",
    "import pickle\n",
    "import datetime\n",
    "import matplotlib.pyplot as plt\n",
    "\n",
    "# Load data\n",
    "data = pd.read_csv(\"path/to/dataset.csv\")\n",
    "X = data.drop(columns=[\"target\"])\n",
    "y = data[\"target\"]\n",
    "\n",
    "# Split data\n",
    "X_train, X_test, y_train, y_test = train_test_split(X, y, test_size=0.2, random_state=42)\n",
    "\n",
    "# Define models\n",
    "models = [\n",
    "    (\"LR\", LogisticRegression(random_state=42)),\n",
    "    (\"SVM\", SVC(random_state=42)),\n",
    "    (\"RF\", RandomForestClassifier(random_state=42)),\n",
    "    (\"KNN\", KNeighborsClassifier()),\n",
    "    (\"NB\", GaussianNB()),\n",
    "    (\"ADA\", AdaBoostClassifier(random_state=42)),\n",
    "    (\"XGB\", XGBClassifier(random_state=42))\n",
    "]\n",
    "\n",
    "# Define hyperparameters to optimize\n",
    "params = {\n",
    "    \"LR\": {\"model__C\": np.logspace(-4, 4, 9)},\n",
    "    \"SVM\": {\"model__C\": np.logspace(-4, 4, 9), \"model__kernel\": [\"linear\", \"poly\", \"rbf\", \"sigmoid\"]},\n",
    "    \"RF\": {\"model__n_estimators\": [10, 50, 100, 200, 500]},\n",
    "    \"KNN\": {\"model__n_neighbors\": [3, 5, 7, 9, 11]},\n",
    "    \"NB\": {},\n",
    "    \"ADA\": {\"model__n_estimators\": [10, 50, 100, 200, 500]},\n",
    "    \"XGB\": {\"model__n_estimators\": [10, 50, 100, 200, 500]}\n",
    "}\n",
    "\n",
    "# Create folder to save models and results\n",
    "model_dir = os.path.join(\"ML_Classifiers\", datetime.datetime.now().strftime(\"%Y-%m-%d_%H:%M:%S\"))\n",
    "if not os.path.exists(model_dir):\n",
    "    os.makedirs(model_dir)\n",
    "\n",
    "# Train models and save to file\n",
    "accuracy_list = []\n",
    "for name, model in models:\n",
    "    clf = Pipeline([\n",
    "        ('scaler', StandardScaler()),\n",
    "        ('model', model)\n",
    "    ])\n",
    "    grid_search = GridSearchCV(clf, params[name], cv=5, n_jobs=-1)\n",
    "    grid_search.fit(X_train, y_train)\n",
    "    model_path = os.path.join(model_dir, name + \".pkl\")\n",
    "    y_pred = clf.predict(X_test)\n",
    "    acc = accuracy_score(y_test, y_pred)\n",
    "    accuracy_list.append(acc)\n",
    "    with open(model_path, 'wb') as f:\n",
    "        pickle.dump(grid_search.best_estimator_, f)\n",
    "\n",
    "# Plot accuracy for all models\n",
    "plt.bar([name for name, _ in models], accuracy_list)\n",
    "plt.ylim([0.0, 1.0])\n",
    "plt.xlabel('Model')\n",
    "plt.ylabel('Accuracy')\n",
    "plt.title('Model Accuracy Comparison')\n",
    "plt.show()\n",
    "\n",
    "\n",
    "print(\"Models and results saved in {}\".format(model_dir))\n"
   ]
  },
  {
   "cell_type": "markdown",
   "metadata": {},
   "source": [
    "## Evaluation"
   ]
  },
  {
   "cell_type": "markdown",
   "metadata": {},
   "source": [
    "## Prediction\n"
   ]
  }
 ],
 "metadata": {
  "kernelspec": {
   "display_name": "Python 3",
   "language": "python",
   "name": "python3"
  },
  "language_info": {
   "codemirror_mode": {
    "name": "ipython",
    "version": 3
   },
   "file_extension": ".py",
   "mimetype": "text/x-python",
   "name": "python",
   "nbconvert_exporter": "python",
   "pygments_lexer": "ipython3",
   "version": "3.10.9 (tags/v3.10.9:1dd9be6, Dec  6 2022, 20:01:21) [MSC v.1934 64 bit (AMD64)]"
  },
  "vscode": {
   "interpreter": {
    "hash": "1d881aeaef1ef3aab987bdbb086fb2aaa1cf26921d7277f23c40ea6ac8fd6c71"
   }
  }
 },
 "nbformat": 4,
 "nbformat_minor": 4
}
