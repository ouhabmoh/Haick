{
 "nbformat": 4,
 "nbformat_minor": 0,
 "metadata": {
  "colab": {
   "provenance": []
  },
  "kernelspec": {
   "name": "python3",
   "display_name": "Python 3"
  },
  "language_info": {
   "name": "python"
  }
 },
 "cells": [
  {
   "cell_type": "code",
   "execution_count": null,
   "metadata": {
    "id": "FdAkIgseub9q",
    "pycharm": {
     "name": "#%%\n"
    }
   },
   "outputs": [],
   "source": [
    "from sklearn.model_selection import  GridSearchCV\n",
    "from sklearn.preprocessing import StandardScaler\n",
    "from sklearn.pipeline import Pipeline\n",
    "from sklearn.linear_model import LogisticRegression\n",
    "from sklearn.ensemble import RandomForestClassifier, AdaBoostClassifier\n",
    "from xgboost import XGBClassifier\n",
    "from sklearn.svm import SVC\n",
    "from sklearn.neighbors import KNeighborsClassifier\n",
    "from sklearn.naive_bayes import GaussianNB\n",
    "from sklearn.metrics import accuracy_score, confusion_matrix\n",
    "import os\n",
    "import pickle\n",
    "import datetime"
   ]
  },
  {
   "cell_type": "code",
   "execution_count": null,
   "metadata": {
    "id": "VS5tXuAgGTj1",
    "pycharm": {
     "name": "#%%\n"
    }
   },
   "outputs": [],
   "source": [
    "pip install fancyimpute"
   ]
  },
  {
   "cell_type": "code",
   "execution_count": null,
   "metadata": {
    "id": "S962HKSHUMv1",
    "pycharm": {
     "name": "#%%\n"
    }
   },
   "outputs": [],
   "source": [
    "import pandas as pd\n",
    "import matplotlib.pyplot as plt\n",
    "import seaborn as sns\n",
    "\n",
    "# Load the dataset\n",
    "from scipy.stats import ttest_ind, chi2_contingency\n",
    "\n",
    "from sklearn.feature_selection import SelectFromModel\n",
    "from keras.models import Sequential\n",
    "from keras.layers import Dense\n",
    "from keras import regularizers\n",
    "import numpy as np\n",
    "from fancyimpute import KNN\n",
    "from sklearn.preprocessing import MinMaxScaler\n",
    "from sklearn.model_selection import train_test_split\n",
    "import xgboost as xgb\n",
    "from sklearn.ensemble import RandomForestClassifier\n",
    "from sklearn.model_selection import GridSearchCV\n",
    "from sklearn.preprocessing import LabelEncoder\n",
    "from sklearn.feature_selection import SelectKBest\n",
    "from sklearn.metrics import precision_score, recall_score, f1_score, accuracy_score, classification_report\n",
    "from sklearn.ensemble import ExtraTreesClassifier"
   ]
  },
  {
   "cell_type": "code",
   "source": [
    "data = pd.read_csv('ERBB1.csv')\n",
    "\n",
    "# Preview the first few rows of the dataset\n",
    "print(data.head())\n"
   ],
   "metadata": {
    "colab": {
     "base_uri": "https://localhost:8080/"
    },
    "id": "2Iyil4W0GiVs",
    "outputId": "10915173-4f58-46a3-c13b-3975ab242d93",
    "pycharm": {
     "name": "#%%\n"
    }
   },
   "execution_count": null,
   "outputs": [
    {
     "output_type": "stream",
     "name": "stdout",
     "text": [
      "       CHEMBL_ID   ALogP    ALogp2      AMR       apol  naAromAtom  nAromBond  \\\n",
      "0  CHEMBL3970738 -1.9574  3.831415  39.6468  69.184239          22         23   \n",
      "1  CHEMBL4099008 -0.8417  0.708459  96.6035  82.723755          12         12   \n",
      "2   CHEMBL122132 -0.2815  0.079242  16.1212  38.097930          16         17   \n",
      "3  CHEMBL2048907  0.2958  0.087498  54.4247  73.422239          24         26   \n",
      "4  CHEMBL4562744 -2.6356  6.946387  72.0931  83.590169          21         23   \n",
      "\n",
      "   nAtom  nHeavyAtom  nH  ...   AATSC0s   AATSC1s   AATSC2s   AATSC3s  \\\n",
      "0     57          34  23  ...  1.857649 -0.358469  0.364975 -0.119000   \n",
      "1     73          38  35  ...  1.143273 -0.018942  0.098510  0.026696   \n",
      "2     29          19  10  ...  0.582240 -0.151546  0.069277 -0.083976   \n",
      "3     59          36  23  ...  1.187459 -0.161320  0.075772  0.048802   \n",
      "4     73          40  33  ...  0.828027 -0.017491  0.072255 -0.086880   \n",
      "\n",
      "    AATSC4s   AATSC5s   AATSC6s   AATSC7s   AATSC8s   Activity  \n",
      "0 -0.167358 -0.075519 -0.283950  0.098354 -0.078829     active  \n",
      "1 -0.067905 -0.098087 -0.083163 -0.117958  0.269445     active  \n",
      "2  0.088800 -0.026122  0.043742 -0.150368  0.014679  nonactive  \n",
      "3 -0.260140 -0.126645  0.019748  0.028019  0.123586     active  \n",
      "4 -0.027135 -0.029084  0.028190  0.004416 -0.093643  nonactive  \n",
      "\n",
      "[5 rows x 256 columns]\n"
     ]
    }
   ]
  },
  {
   "cell_type": "code",
   "source": [
    "\n",
    "# Check for duplicates\n",
    "print('Number of duplicates in the dataset:', data.duplicated().sum())\n"
   ],
   "metadata": {
    "colab": {
     "base_uri": "https://localhost:8080/"
    },
    "id": "NNelr1rIGiju",
    "outputId": "4d2ee9a1-5170-453a-a09e-3bac8ed36281",
    "pycharm": {
     "name": "#%%\n"
    }
   },
   "execution_count": null,
   "outputs": [
    {
     "output_type": "stream",
     "name": "stdout",
     "text": [
      "Number of duplicates in the dataset: 0\n"
     ]
    }
   ]
  },
  {
   "cell_type": "code",
   "source": [
    "\n",
    "# Remove duplicates\n",
    "data.drop_duplicates(inplace=True)"
   ],
   "metadata": {
    "id": "TFd9uLa3HBxM",
    "pycharm": {
     "name": "#%%\n"
    }
   },
   "execution_count": null,
   "outputs": []
  },
  {
   "cell_type": "code",
   "source": [
    "X = data.drop(\"CHEMBL_ID\", axis='columns')"
   ],
   "metadata": {
    "id": "_p47vWZYBCbn",
    "pycharm": {
     "name": "#%%\n"
    }
   },
   "execution_count": null,
   "outputs": []
  },
  {
   "cell_type": "code",
   "source": [
    "X = X.drop(\"Activity\", axis  = 'columns') "
   ],
   "metadata": {
    "id": "UZcHIac1BJVR",
    "pycharm": {
     "name": "#%%\n"
    }
   },
   "execution_count": null,
   "outputs": []
  },
  {
   "cell_type": "code",
   "source": [
    "le = LabelEncoder()\n",
    "Y = pd.DataFrame(le.fit_transform(data['Activity']), columns = ['Activity'])"
   ],
   "metadata": {
    "id": "F7j915U_BX46",
    "pycharm": {
     "name": "#%%\n"
    }
   },
   "execution_count": null,
   "outputs": []
  },
  {
   "cell_type": "code",
   "source": [
    "Y.head()"
   ],
   "metadata": {
    "colab": {
     "base_uri": "https://localhost:8080/",
     "height": 206
    },
    "id": "sMCxmld5NMVP",
    "outputId": "91185b19-e1e4-453d-cd77-75c45ec9ac28",
    "pycharm": {
     "name": "#%%\n"
    }
   },
   "execution_count": null,
   "outputs": [
    {
     "output_type": "execute_result",
     "data": {
      "text/plain": [
       "   Activity\n",
       "0         0\n",
       "1         0\n",
       "2         1\n",
       "3         0\n",
       "4         1"
      ],
      "text/html": [
       "\n",
       "  <div id=\"df-1416ddb8-efc7-4398-8e80-7366cbb3dedb\">\n",
       "    <div class=\"colab-df-container\">\n",
       "      <div>\n",
       "<style scoped>\n",
       "    .dataframe tbody tr th:only-of-type {\n",
       "        vertical-align: middle;\n",
       "    }\n",
       "\n",
       "    .dataframe tbody tr th {\n",
       "        vertical-align: top;\n",
       "    }\n",
       "\n",
       "    .dataframe thead th {\n",
       "        text-align: right;\n",
       "    }\n",
       "</style>\n",
       "<table border=\"1\" class=\"dataframe\">\n",
       "  <thead>\n",
       "    <tr style=\"text-align: right;\">\n",
       "      <th></th>\n",
       "      <th>Activity</th>\n",
       "    </tr>\n",
       "  </thead>\n",
       "  <tbody>\n",
       "    <tr>\n",
       "      <th>0</th>\n",
       "      <td>0</td>\n",
       "    </tr>\n",
       "    <tr>\n",
       "      <th>1</th>\n",
       "      <td>0</td>\n",
       "    </tr>\n",
       "    <tr>\n",
       "      <th>2</th>\n",
       "      <td>1</td>\n",
       "    </tr>\n",
       "    <tr>\n",
       "      <th>3</th>\n",
       "      <td>0</td>\n",
       "    </tr>\n",
       "    <tr>\n",
       "      <th>4</th>\n",
       "      <td>1</td>\n",
       "    </tr>\n",
       "  </tbody>\n",
       "</table>\n",
       "</div>\n",
       "      <button class=\"colab-df-convert\" onclick=\"convertToInteractive('df-1416ddb8-efc7-4398-8e80-7366cbb3dedb')\"\n",
       "              title=\"Convert this dataframe to an interactive table.\"\n",
       "              style=\"display:none;\">\n",
       "        \n",
       "  <svg xmlns=\"http://www.w3.org/2000/svg\" height=\"24px\"viewBox=\"0 0 24 24\"\n",
       "       width=\"24px\">\n",
       "    <path d=\"M0 0h24v24H0V0z\" fill=\"none\"/>\n",
       "    <path d=\"M18.56 5.44l.94 2.06.94-2.06 2.06-.94-2.06-.94-.94-2.06-.94 2.06-2.06.94zm-11 1L8.5 8.5l.94-2.06 2.06-.94-2.06-.94L8.5 2.5l-.94 2.06-2.06.94zm10 10l.94 2.06.94-2.06 2.06-.94-2.06-.94-.94-2.06-.94 2.06-2.06.94z\"/><path d=\"M17.41 7.96l-1.37-1.37c-.4-.4-.92-.59-1.43-.59-.52 0-1.04.2-1.43.59L10.3 9.45l-7.72 7.72c-.78.78-.78 2.05 0 2.83L4 21.41c.39.39.9.59 1.41.59.51 0 1.02-.2 1.41-.59l7.78-7.78 2.81-2.81c.8-.78.8-2.07 0-2.86zM5.41 20L4 18.59l7.72-7.72 1.47 1.35L5.41 20z\"/>\n",
       "  </svg>\n",
       "      </button>\n",
       "      \n",
       "  <style>\n",
       "    .colab-df-container {\n",
       "      display:flex;\n",
       "      flex-wrap:wrap;\n",
       "      gap: 12px;\n",
       "    }\n",
       "\n",
       "    .colab-df-convert {\n",
       "      background-color: #E8F0FE;\n",
       "      border: none;\n",
       "      border-radius: 50%;\n",
       "      cursor: pointer;\n",
       "      display: none;\n",
       "      fill: #1967D2;\n",
       "      height: 32px;\n",
       "      padding: 0 0 0 0;\n",
       "      width: 32px;\n",
       "    }\n",
       "\n",
       "    .colab-df-convert:hover {\n",
       "      background-color: #E2EBFA;\n",
       "      box-shadow: 0px 1px 2px rgba(60, 64, 67, 0.3), 0px 1px 3px 1px rgba(60, 64, 67, 0.15);\n",
       "      fill: #174EA6;\n",
       "    }\n",
       "\n",
       "    [theme=dark] .colab-df-convert {\n",
       "      background-color: #3B4455;\n",
       "      fill: #D2E3FC;\n",
       "    }\n",
       "\n",
       "    [theme=dark] .colab-df-convert:hover {\n",
       "      background-color: #434B5C;\n",
       "      box-shadow: 0px 1px 3px 1px rgba(0, 0, 0, 0.15);\n",
       "      filter: drop-shadow(0px 1px 2px rgba(0, 0, 0, 0.3));\n",
       "      fill: #FFFFFF;\n",
       "    }\n",
       "  </style>\n",
       "\n",
       "      <script>\n",
       "        const buttonEl =\n",
       "          document.querySelector('#df-1416ddb8-efc7-4398-8e80-7366cbb3dedb button.colab-df-convert');\n",
       "        buttonEl.style.display =\n",
       "          google.colab.kernel.accessAllowed ? 'block' : 'none';\n",
       "\n",
       "        async function convertToInteractive(key) {\n",
       "          const element = document.querySelector('#df-1416ddb8-efc7-4398-8e80-7366cbb3dedb');\n",
       "          const dataTable =\n",
       "            await google.colab.kernel.invokeFunction('convertToInteractive',\n",
       "                                                     [key], {});\n",
       "          if (!dataTable) return;\n",
       "\n",
       "          const docLinkHtml = 'Like what you see? Visit the ' +\n",
       "            '<a target=\"_blank\" href=https://colab.research.google.com/notebooks/data_table.ipynb>data table notebook</a>'\n",
       "            + ' to learn more about interactive tables.';\n",
       "          element.innerHTML = '';\n",
       "          dataTable['output_type'] = 'display_data';\n",
       "          await google.colab.output.renderOutput(dataTable, element);\n",
       "          const docLink = document.createElement('div');\n",
       "          docLink.innerHTML = docLinkHtml;\n",
       "          element.appendChild(docLink);\n",
       "        }\n",
       "      </script>\n",
       "    </div>\n",
       "  </div>\n",
       "  "
      ]
     },
     "metadata": {},
     "execution_count": 176
    }
   ]
  },
  {
   "cell_type": "code",
   "source": [
    "\n",
    "X_train, X_test, y_train, y_test = train_test_split(X, Y, test_size=0.2, random_state=42)"
   ],
   "metadata": {
    "id": "AACSKG7FwpWQ",
    "pycharm": {
     "name": "#%%\n"
    }
   },
   "execution_count": null,
   "outputs": []
  },
  {
   "cell_type": "code",
   "source": [
    "def preprocess(X):\n",
    "    X = pd.DataFrame(KNN(k=3).fit_transform(X), columns = X.columns)\n",
    "    X = pd.DataFrame(np.log(X.abs() + 1), columns = X.columns)\n",
    "    scaler = MinMaxScaler()\n",
    "    X =  pd.DataFrame(scaler.fit_transform(X), columns = X.columns)\n",
    "\n",
    "    return X"
   ],
   "metadata": {
    "id": "GIIDabDKSBXt",
    "pycharm": {
     "name": "#%%\n"
    }
   },
   "execution_count": null,
   "outputs": []
  },
  {
   "cell_type": "code",
   "source": [
    "X_train = preprocess(X_train)"
   ],
   "metadata": {
    "id": "pi9cXgFnv3Ws",
    "pycharm": {
     "name": "#%%\n"
    }
   },
   "execution_count": null,
   "outputs": []
  },
  {
   "cell_type": "code",
   "source": [
    "X_test = preprocess(X_test)"
   ],
   "metadata": {
    "id": "WZtlSWr3v60K",
    "pycharm": {
     "name": "#%%\n"
    }
   },
   "execution_count": null,
   "outputs": []
  },
  {
   "cell_type": "code",
   "source": [
    "X_test = preprocess(X_test)\n"
   ],
   "metadata": {
    "id": "q1r4FnzIw0v4",
    "pycharm": {
     "name": "#%%\n"
    }
   },
   "execution_count": null,
   "outputs": []
  },
  {
   "cell_type": "code",
   "source": [
    "\n",
    "# Define models\n",
    "models = [\n",
    "    (\"LR\", LogisticRegression(random_state=42)),\n",
    "    (\"SVM\", SVC(random_state=42)),\n",
    "    (\"RF\", RandomForestClassifier(random_state=42)),\n",
    "    (\"KNN\", KNeighborsClassifier()),\n",
    "    (\"NB\", GaussianNB()),\n",
    "    (\"ADA\", AdaBoostClassifier(random_state=42)),\n",
    "    (\"XGB\", XGBClassifier(random_state=42))\n",
    "]\n",
    "\n",
    "# Define hyperparameters to optimize\n",
    "params = {\n",
    "    \"LR\": {\"model__C\": np.logspace(-4, 4, 9)},\n",
    "    \"SVM\": {\"model__C\": np.logspace(-4, 4, 9), \"model__kernel\": [\"linear\", \"poly\", \"rbf\", \"sigmoid\"]},\n",
    "    \"RF\": {\"model__n_estimators\": [10, 50, 100, 200, 500]},\n",
    "    \"KNN\": {\"model__n_neighbors\": [3, 5, 7, 9, 11]},\n",
    "    \"NB\": {},\n",
    "    \"ADA\": {\"model__n_estimators\": [10, 50, 100, 200, 500]},\n",
    "    \"XGB\": {\"model__n_estimators\": [10, 50, 100, 200, 500]}\n",
    "}\n",
    "\n",
    "# Create folder to save models and results\n",
    "model_dir = os.path.join(\"ML_Classifiers\", datetime.datetime.now().strftime(\"%Y-%m-%d_%H:%M:%S\"))\n",
    "if not os.path.exists(model_dir):\n",
    "    os.makedirs(model_dir)\n",
    "\n",
    "# Train models and save to file\n",
    "accuracy_list = []\n",
    "for name, model in models:\n",
    "    clf = Pipeline([\n",
    "        # ('scaler', StandardScaler()),\n",
    "        ('model', model)\n",
    "    ])\n",
    "    grid_search = GridSearchCV(clf, params[name], cv=5, n_jobs=-1)\n",
    "    grid_search.fit(X_train, y_train)\n",
    "    model_path = os.path.join(model_dir, name + \".pkl\")\n",
    "    y_pred = grid_search.predict(X_test)\n",
    "    acc = accuracy_score(y_test, y_pred)\n",
    "    accuracy_list.append(acc)\n",
    "    with open(model_path, 'wb') as f:\n",
    "        pickle.dump(grid_search.best_estimator_, f)\n",
    "\n",
    "# Plot accuracy for all models\n",
    "plt.bar([name for name, _ in models], accuracy_list)\n",
    "plt.ylim([0.0, 1.0])\n",
    "plt.xlabel('Model')\n",
    "plt.ylabel('Accuracy')\n",
    "plt.title('Model Accuracy Comparison')\n",
    "plt.show()\n",
    "\n",
    "\n",
    "print(\"Models and results saved in {}\".format(model_dir))"
   ],
   "metadata": {
    "id": "BJRZNHh86dCC",
    "pycharm": {
     "name": "#%%\n"
    }
   },
   "execution_count": null,
   "outputs": []
  }
 ]
}